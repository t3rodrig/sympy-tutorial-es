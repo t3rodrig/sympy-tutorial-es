{
 "cells": [
  {
   "cell_type": "code",
   "execution_count": null,
   "metadata": {},
   "outputs": [],
   "source": [
    "from sympy import *\n",
    "init_printing(use_latex='mathjax')\n",
    "n = symbols('n', integer=True)\n",
    "x, y, z = symbols('x,y,z')"
   ]
  },
  {
   "cell_type": "markdown",
   "metadata": {},
   "source": [
    "## Integrales\n",
    "\n",
    "En la primera sección aprendimos diferenciación simbólica con `diff`. Aquí abordaremos la integración simbólica con `integrate`. "
   ]
  },
  {
   "cell_type": "markdown",
   "metadata": {},
   "source": [
    "Así es cómo escribimos la integral indefinida\n",
    "\n",
    "$$ \\int x^2 dx = \\frac{x^3}{3}$$"
   ]
  },
  {
   "cell_type": "code",
   "execution_count": null,
   "metadata": {},
   "outputs": [],
   "source": [
    "# Integral indefinida\n",
    "integrate(x**2, x)"
   ]
  },
  {
   "cell_type": "markdown",
   "metadata": {},
   "source": [
    "y la integral definida\n",
    "\n",
    "$$ \\int_0^3 x^2 dx = \\left.\\frac{x^3}{3} \\right|_0^3 = \\frac{3^3}{3} - \\frac{0^3}{3} = 9 $$"
   ]
  },
  {
   "cell_type": "code",
   "execution_count": null,
   "metadata": {},
   "outputs": [],
   "source": [
    "# Integral definida\n",
    "integrate(x**2, (x, 0, 3))"
   ]
  },
  {
   "cell_type": "markdown",
   "metadata": {},
   "source": [
    "Como siempre, debido a que estamos usando símbolos, podríamos usar un símbolo donde sea que hayamos usado un número\n",
    "\n",
    "$$ \\int_y^z x^n dx $$"
   ]
  },
  {
   "cell_type": "code",
   "execution_count": null,
   "metadata": {},
   "outputs": [],
   "source": [
    "integrate(x**n, (x, y, z))"
   ]
  },
  {
   "cell_type": "markdown",
   "metadata": {},
   "source": [
    "### Ejercicio\n",
    "\n",
    "Calcule las siguientes integrales:\n",
    "\n",
    "$$ \\int \\sin(x) dx $$\n",
    "$$ \\int_0^{\\pi} \\sin(x) dx $$\n",
    "$$ \\int_0^y x^5 + 12x^3 - 2x + 1  $$\n",
    "$$ \\int e^{\\frac{(x - \\mu)^2}{\\sigma^2}} $$\n",
    "\n",
    "Siéntete libre de jugar con varios parámetros y configuraciones y ver cómo cambian los resultados."
   ]
  },
  {
   "cell_type": "code",
   "execution_count": null,
   "metadata": {},
   "outputs": [],
   "source": [
    "# Usa `integrate` para resolver las integrales anteriores\n",
    "\n"
   ]
  },
  {
   "cell_type": "markdown",
   "metadata": {},
   "source": [
    "¿Hay algunas integrales que *SymPy* no puede hacer? Encuentra alguna."
   ]
  },
  {
   "cell_type": "code",
   "execution_count": null,
   "metadata": {},
   "outputs": [],
   "source": [
    "# Usa `integrate` en otras ecuaciones. La integración simbólica tiene sus límites, encuéntralos."
   ]
  }
 ],
 "metadata": {
  "kernelspec": {
   "display_name": "Python 3",
   "language": "python",
   "name": "python3"
  },
  "language_info": {
   "codemirror_mode": {
    "name": "ipython",
    "version": 3
   },
   "file_extension": ".py",
   "mimetype": "text/x-python",
   "name": "python",
   "nbconvert_exporter": "python",
   "pygments_lexer": "ipython3",
   "version": "3.6.4"
  }
 },
 "nbformat": 4,
 "nbformat_minor": 1
}
